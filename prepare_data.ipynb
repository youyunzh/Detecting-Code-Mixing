{
 "cells": [
  {
   "cell_type": "code",
   "execution_count": 65,
   "metadata": {},
   "outputs": [],
   "source": [
    "import os\n",
    "from random import randint\n",
    "from random import shuffle\n",
    "import numpy as np\n",
    "import contextlib\n",
    "import wave"
   ]
  },
  {
   "cell_type": "code",
   "execution_count": 14,
   "metadata": {},
   "outputs": [],
   "source": [
    "prefix = '../grouped_spwav/'\n",
    "langs = ['eng', 'ger', 'mix']\n",
    "folders = [folder for folder in os.listdir(prefix) if folder != '.DS_Store']"
   ]
  },
  {
   "cell_type": "code",
   "execution_count": 62,
   "metadata": {},
   "outputs": [],
   "source": [
    "os.system('rm -r ../data8')\n",
    "os.system('mkdir ../data8')\n",
    "for section in ['train', 'test']:\n",
    "    os.system('mkdir ../data8/' + section)\n",
    "    for lang in langs:\n",
    "        os.system('mkdir ../data8/' + section + '/' + lang)"
   ]
  },
  {
   "cell_type": "code",
   "execution_count": 63,
   "metadata": {},
   "outputs": [],
   "source": [
    "files = []\n",
    "for folder in folders:\n",
    "    for li, lang in enumerate(langs):\n",
    "        path = prefix + folder + '/' + lang + '/'\n",
    "        wavs = [wav for wav in os.listdir(path) if wav != '.DS_Store']\n",
    "        kept_wavs = []\n",
    "        for wav in wavs:\n",
    "            with contextlib.closing(wave.open(path + wav,'r')) as f:\n",
    "                frames = f.getnframes()\n",
    "                rate = f.getframerate()\n",
    "                duration = frames / float(rate)\n",
    "                if duration >= 4.0:\n",
    "                    kept_wavs.append(path + wav)\n",
    "        if len(files) != 3:\n",
    "            files.append(kept_wavs)\n",
    "        else:\n",
    "            files[li] += kept_wavs\n",
    "\n",
    "mean_length = np.mean([len(file_list) for file_list in files])\n",
    "for li, lang in enumerate(langs):\n",
    "    shuffle(files[li])\n",
    "    path = prefix + folder + '/' + lang + '/'\n",
    "    for rnd in range(int(mean_length * 0.8)):\n",
    "        fi = randint(0, int(0.8 * len(files[li])) - 1)\n",
    "        os.system('scp ' + files[li][fi] + ' ../data8/train/' + lang + '/' + '_' + str(rnd) + '_' + files[li][fi].rsplit('/', 1)[-1])\n",
    "    for rnd in range(int(mean_length * 0.2)):\n",
    "        fi = randint(int(0.8 * len(files[li])), len(files[li]) - 1)\n",
    "        os.system('scp ' + files[li][fi] + ' ../data8/test/' + lang  + '/' + '_' + str(rnd) + '_' + files[li][fi].rsplit('/', 1)[-1])"
   ]
  },
  {
   "cell_type": "code",
   "execution_count": 41,
   "metadata": {},
   "outputs": [
    {
     "data": {
      "text/plain": [
       "601"
      ]
     },
     "execution_count": 41,
     "metadata": {},
     "output_type": "execute_result"
    }
   ],
   "source": [
    "int(mean_length * 0.8)"
   ]
  },
  {
   "cell_type": "code",
   "execution_count": 64,
   "metadata": {},
   "outputs": [
    {
     "data": {
      "text/plain": [
       "[596, 1343, 316]"
      ]
     },
     "execution_count": 64,
     "metadata": {},
     "output_type": "execute_result"
    }
   ],
   "source": [
    "[len(lang_file) for lang_file in files]"
   ]
  },
  {
   "cell_type": "code",
   "execution_count": null,
   "metadata": {},
   "outputs": [],
   "source": []
  }
 ],
 "metadata": {
  "kernelspec": {
   "display_name": "Python 3",
   "language": "python",
   "name": "python3"
  },
  "language_info": {
   "codemirror_mode": {
    "name": "ipython",
    "version": 3
   },
   "file_extension": ".py",
   "mimetype": "text/x-python",
   "name": "python",
   "nbconvert_exporter": "python",
   "pygments_lexer": "ipython3",
   "version": "3.7.2"
  }
 },
 "nbformat": 4,
 "nbformat_minor": 2
}
