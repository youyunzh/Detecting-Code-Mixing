{
 "cells": [
  {
   "cell_type": "code",
   "execution_count": null,
   "metadata": {},
   "outputs": [],
   "source": [
    "import os\n",
    "import subprocess"
   ]
  },
  {
   "cell_type": "code",
   "execution_count": null,
   "metadata": {},
   "outputs": [],
   "source": [
    "os.chdir('../pyAudioAnalysis/pyAudioAnalysis') "
   ]
  },
  {
   "cell_type": "code",
   "execution_count": null,
   "metadata": {},
   "outputs": [],
   "source": [
    "for lang in ['eng', 'ger', 'mix']:\n",
    "    print(subprocess.check_output(['python', 'audioAnalysis.py', 'classifyFolder', '-i', '../../data8/test/' + lang + '/', '--model', 'gradientboosting', '--classifier', '../../code/gradientboosting_classifier']))"
   ]
  },
  {
   "cell_type": "code",
   "execution_count": null,
   "metadata": {},
   "outputs": [],
   "source": [
    "for lang in ['eng', 'ger']:\n",
    "    print(subprocess.check_output(['python', 'audioAnalysis.py', 'classifyFolder', '-i', '../../data8/test/' +  lang + '/', '--model', 'gradientboosting', '--classifier', '../../code/gradientboosting_classifier2']))"
   ]
  },
  {
   "cell_type": "code",
   "execution_count": null,
   "metadata": {},
   "outputs": [],
   "source": []
  }
 ],
 "metadata": {
  "kernelspec": {
   "display_name": "Python 3",
   "language": "python",
   "name": "python3"
  },
  "language_info": {
   "codemirror_mode": {
    "name": "ipython",
    "version": 3
   },
   "file_extension": ".py",
   "mimetype": "text/x-python",
   "name": "python",
   "nbconvert_exporter": "python",
   "pygments_lexer": "ipython3",
   "version": "3.7.2"
  }
 },
 "nbformat": 4,
 "nbformat_minor": 2
}
